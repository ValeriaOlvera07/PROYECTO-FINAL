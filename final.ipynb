{
  "nbformat": 4,
  "nbformat_minor": 0,
  "metadata": {
    "colab": {
      "provenance": []
    },
    "kernelspec": {
      "name": "python3",
      "display_name": "Python 3"
    },
    "language_info": {
      "name": "python"
    }
  },
  "cells": [
    {
      "cell_type": "code",
      "source": [
        "#FINAL\n",
        "import re\n",
        "\n",
        "# Listas de palabras\n",
        "body_shaming = [\"gorda\", \"ballena\", \"gordo\", \"esqueleto\", \"anorexica\", \"anorexico\", \"bulto\", \"obesa\", \"obeso\", \"deforme\", \"mounstro\", \"narizona\", \"frentona\",\"asco tu cuerpo\"]\n",
        "discriminacion = [\"prieto\", \"naco\", \"nazi\", \"gay\", \"chinito\", \"enano\", \"marimacha\", \"marica\", \"manco\"]\n",
        "amenazas = [\"no vas a escapar\", \"te voy a matar\", \"te hare papilla\", \"no podras huir\", \"vas a desaparecer\", \"te hare la vida imposible\", \"te voy a castigar\", \"odiaras haber nacido\"]\n",
        "lenguaje_ofensivo = [\"pendejo\", \"chingadera\", \"culero\", \"cabron\",\"mamón\", \"idiota\", \"mongolo\", \"estupido\"]\n",
        "acoso_sexual = [\"tócate\",\"sexy\", \"tetona\",\"desnúdame\",\"culito\", \"mamacita\",\"papito\"]\n",
        "\n",
        "# Unir todas las listas en una sola lista\n",
        "todas_las_palabras = body_shaming + discriminacion + amenazas + lenguaje_ofensivo + acoso_sexual\n",
        "\n",
        "# Diccionario de usuarios\n",
        "usuarios = {}\n",
        "\n",
        "def limpiar_texto(texto):\n",
        "    return re.sub(r'[^a-zA-ZñÑáéíóúÁÉÍÓÚ ]', '', texto).lower()\n",
        "\n",
        "def censurar(texto):\n",
        "    texto_censurado = texto\n",
        "    for palabra in todas_las_palabras:\n",
        "        patron = r''\n",
        "        for letra in palabra:\n",
        "            patron += letra + r'[^a-zA-ZñÑáéíóúÁÉÍÓÚ]*'\n",
        "        regex = re.compile(patron, re.IGNORECASE)\n",
        "        texto_censurado = regex.sub('*' * len(palabra), texto_censurado)\n",
        "    return texto_censurado\n",
        "\n",
        "print(\"Sistema de comentarios iniciado...\")\n",
        "\n",
        "while True:\n",
        "    usuario = input(\"\\nNombre de usuario: \")\n",
        "\n",
        "    # Si el usuario no existe, lo agregamos con advertencias=0 y baneado=False\n",
        "    if usuario not in usuarios:\n",
        "        usuarios[usuario] = {\"advertencias\": 0, \"baneado\": False}\n",
        "\n",
        "    # Si el usuario ya está baneado, no puede escribir más\n",
        "    if usuarios[usuario][\"baneado\"]:\n",
        "        print(f\"{usuario} está baneado y no puede escribir más.\")\n",
        "        continue\n",
        "\n",
        "    comentario = input(\"Escribe un comentario: \")\n",
        "    comentario_limpio = limpiar_texto(comentario)\n",
        "\n",
        "    # Detecta malas palabras de todas las listas\n",
        "    if any(re.search(rf'\\b{palabra}\\b', comentario_limpio, re.IGNORECASE) for palabra in todas_las_palabras):\n",
        "        usuarios[usuario][\"advertencias\"] += 1\n",
        "        advertencia_num = usuarios[usuario][\"advertencias\"]\n",
        "        comentario_censurado = censurar(comentario)\n",
        "\n",
        "        print(f\"\\nAdvertencia {advertencia_num}/3 para {usuario}:\")\n",
        "        print(f\"Comentario censurado: {comentario_censurado}\")\n",
        "\n",
        "        if advertencia_num >= 3:\n",
        "            usuarios[usuario][\"baneado\"] = True\n",
        "            print(f\"{usuario} ha sido baneado por exceso de malas palabras.\")\n",
        "    else:\n",
        "        print(\"Comentario aceptado.\")"
      ],
      "metadata": {
        "id": "EPAacxRXeL5P"
      },
      "execution_count": null,
      "outputs": []
    }
  ]
}